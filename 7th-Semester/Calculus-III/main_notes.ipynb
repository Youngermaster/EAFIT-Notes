{
 "metadata": {
  "language_info": {
   "codemirror_mode": {
    "name": "ipython",
    "version": 3
   },
   "file_extension": ".py",
   "mimetype": "text/x-python",
   "name": "python",
   "nbconvert_exporter": "python",
   "pygments_lexer": "ipython3",
   "version": "3.9.5"
  },
  "orig_nbformat": 4,
  "kernelspec": {
   "name": "python3",
   "display_name": "Python 3.9.5 64-bit"
  },
  "interpreter": {
   "hash": "1c1af334946e742e3b43a652610baa0db2666184b50c8a23bee7114721aa7d75"
  }
 },
 "nbformat": 4,
 "nbformat_minor": 2,
 "cells": [
  {
   "source": [
    "<h1>Calculus III</h1>\n",
    "\n",
    "## Juan Manuel Young Hoyos\n",
    "## July 2021"
   ],
   "cell_type": "markdown",
   "metadata": {}
  },
  {
   "source": [
    "# Stuff\n"
   ],
   "cell_type": "markdown",
   "metadata": {}
  },
  {
   "source": [
    "En matemáticas, un sistema de ecuaciones paramétricas permite representar una curva o superficie\n",
    "en el plano o en el espacio, mediante valores que recorren un intervalo de números reales, mediante\n",
    "una variable, llamada parámetro, considerando cada coordenada de un punto como una función dependiente\n",
    "del parámetro.\n",
    "Por ejemplo:\n",
    "\n"
   ],
   "cell_type": "markdown",
   "metadata": {}
  },
  {
   "cell_type": "code",
   "execution_count": 11,
   "metadata": {},
   "outputs": [
    {
     "output_type": "display_data",
     "data": {
      "text/plain": "<IPython.core.display.Latex object>",
      "text/latex": "\\[ x = f(t)\\]\n\\[ y = g(t)\\]\n"
     },
     "metadata": {}
    }
   ],
   "source": [
    "%%latex\n",
    "\\[ x = f(t)\\]\n",
    "\\[ y = g(t)\\]\n"
   ]
  }
 ]
}